{
 "cells": [
  {
   "cell_type": "markdown",
   "metadata": {},
   "source": [
    "# Introduction to Naive Bayes\n",
    "*Interactive [article](https://gormanalysis.com/introduction-to-naive-bayes/)*\n",
    "\n",
    "$$ p(C_k \\mid \\mathbf{x}) = \\frac{p(\\mathbf{x} \\mid C_k) p(C_k)}{p(\\mathbf{x})}$$\n",
    "\n",
    "I think there’s a rule somewhere that says “You can’t call yourself a data scientist until you’ve used a Naive Bayes classifier”.  It’s extremely useful, yet beautifully simplistic.  This article is my attempt at laying the groundwork for Naive Bayes in a practical and intuitive fashion.\n",
    "\n",
    "Let’s start with a problem to motivate our formulation of Naive Bayes.\n",
    "\n",
    "Suppose we own a professional networking site similar to LinkedIn. Users sign up, type some information about themselves, and then roam the network looking for jobs/connections/etc. Until recently, we only required users to enter their current job title, but now we’re asking them what industry they work in. New users are supplying this info as they sign up, but old users aren’t bothering to update their information. So, we need to build a text classification model to do it for them. Our data looks like this"
   ]
  },
  {
   "cell_type": "code",
   "execution_count": 1,
   "metadata": {
    "collapsed": false
   },
   "outputs": [
    {
     "data": {
      "text/html": [
       "<div>\n",
       "<table border=\"1\" class=\"dataframe\">\n",
       "  <thead>\n",
       "    <tr style=\"text-align: right;\">\n",
       "      <th></th>\n",
       "      <th>job_title</th>\n",
       "      <th>job_category</th>\n",
       "    </tr>\n",
       "  </thead>\n",
       "  <tbody>\n",
       "    <tr>\n",
       "      <th>0</th>\n",
       "      <td>underwriter manager</td>\n",
       "      <td>finance</td>\n",
       "    </tr>\n",
       "    <tr>\n",
       "      <th>1</th>\n",
       "      <td>mortgage data analyst</td>\n",
       "      <td>finance</td>\n",
       "    </tr>\n",
       "    <tr>\n",
       "      <th>2</th>\n",
       "      <td>junior underwriter</td>\n",
       "      <td>finance</td>\n",
       "    </tr>\n",
       "    <tr>\n",
       "      <th>3</th>\n",
       "      <td>sales manager</td>\n",
       "      <td>sales</td>\n",
       "    </tr>\n",
       "    <tr>\n",
       "      <th>4</th>\n",
       "      <td>junior medical sales associate</td>\n",
       "      <td>sales</td>\n",
       "    </tr>\n",
       "  </tbody>\n",
       "</table>\n",
       "</div>"
      ],
      "text/plain": [
       "                        job_title job_category\n",
       "0             underwriter manager      finance\n",
       "1           mortgage data analyst      finance\n",
       "2              junior underwriter      finance\n",
       "3                   sales manager        sales\n",
       "4  junior medical sales associate        sales"
      ]
     },
     "execution_count": 1,
     "metadata": {},
     "output_type": "execute_result"
    }
   ],
   "source": [
    "import pandas as pd\n",
    "\n",
    "job_titles = pd.read_csv(\"_Data/jobtitles.csv\")\n",
    "job_titles.head()"
   ]
  },
  {
   "cell_type": "code",
   "execution_count": 2,
   "metadata": {
    "collapsed": false
   },
   "outputs": [
    {
     "data": {
      "text/html": [
       "<div>\n",
       "<table border=\"1\" class=\"dataframe\">\n",
       "  <thead>\n",
       "    <tr style=\"text-align: right;\">\n",
       "      <th></th>\n",
       "      <th>job_title</th>\n",
       "      <th>job_category</th>\n",
       "    </tr>\n",
       "  </thead>\n",
       "  <tbody>\n",
       "    <tr>\n",
       "      <th>7</th>\n",
       "      <td>senior data analyst</td>\n",
       "      <td>technology</td>\n",
       "    </tr>\n",
       "    <tr>\n",
       "      <th>8</th>\n",
       "      <td>data analyst</td>\n",
       "      <td>technology</td>\n",
       "    </tr>\n",
       "    <tr>\n",
       "      <th>9</th>\n",
       "      <td>data manager</td>\n",
       "      <td>technology</td>\n",
       "    </tr>\n",
       "    <tr>\n",
       "      <th>10</th>\n",
       "      <td>data analyst manager</td>\n",
       "      <td>NaN</td>\n",
       "    </tr>\n",
       "    <tr>\n",
       "      <th>11</th>\n",
       "      <td>junior data analyst</td>\n",
       "      <td>NaN</td>\n",
       "    </tr>\n",
       "  </tbody>\n",
       "</table>\n",
       "</div>"
      ],
      "text/plain": [
       "               job_title job_category\n",
       "7    senior data analyst   technology\n",
       "8           data analyst   technology\n",
       "9           data manager   technology\n",
       "10  data analyst manager          NaN\n",
       "11   junior data analyst          NaN"
      ]
     },
     "execution_count": 2,
     "metadata": {},
     "output_type": "execute_result"
    }
   ],
   "source": [
    "job_titles.tail()"
   ]
  },
  {
   "cell_type": "markdown",
   "metadata": {},
   "source": [
    "Our goal – to estimate the probability those two unlabeled job titles should be categorized as Technology, Sales, or Finance, at which point we can make our best guess for the user. Formalizing this a bit, we want to find $p(C_k \\mid \\text{job_title})$ where $C_1,C_2$ and $C_3$ are the classes Technology, Sales and Finance. (Note: this type of problem is called [Document Classification](https://en.wikipedia.org/wiki/Document_classification).) \n",
    "\n",
    "How about that first unlabeled title, “data analyst manager”?  We should probably label it as Technology, but how do we train a computer to figure that out?  If we had trillions of training samples we might be able to estimate $p(C_k \\mid \\text{job_title}=\\text{\"data analyst manager\"})$ empirically (i.e. by measuring the relative frequency of each class for samples where `job_title=\"data analyst manager\"`). Unfortunately we only have 10 training samples (none of which have the title “data analyst manager”) so we’ll have to be a little more creative in our approach.\n",
    "\n",
    "The word “data” seems pretty important.  It occurs in all of the Technology samples, none of the Sales samples and only one of the Finance samples.  On the other hand the word “manager” appears in every single category, so it’s probably not as useful.  The big takeaway here is that we can use word occurrences to build a probabilistic model.  Let’s start tracking words then..."
   ]
  },
  {
   "cell_type": "code",
   "execution_count": 3,
   "metadata": {
    "collapsed": true
   },
   "outputs": [],
   "source": [
    "words = job_titles['job_title'].str.get_dummies(' ')\n",
    "job_titles = pd.concat([job_titles, words], axis=1)"
   ]
  },
  {
   "cell_type": "markdown",
   "metadata": {},
   "source": [
    "### Finance"
   ]
  },
  {
   "cell_type": "code",
   "execution_count": 4,
   "metadata": {
    "collapsed": false
   },
   "outputs": [
    {
     "data": {
      "text/html": [
       "<div>\n",
       "<table border=\"1\" class=\"dataframe\">\n",
       "  <thead>\n",
       "    <tr style=\"text-align: right;\">\n",
       "      <th></th>\n",
       "      <th>job_title</th>\n",
       "      <th>analyst</th>\n",
       "      <th>associate</th>\n",
       "      <th>data</th>\n",
       "      <th>junior</th>\n",
       "      <th>manager</th>\n",
       "      <th>medical</th>\n",
       "      <th>mortgage</th>\n",
       "      <th>sales</th>\n",
       "      <th>senior</th>\n",
       "      <th>underwriter</th>\n",
       "    </tr>\n",
       "  </thead>\n",
       "  <tbody>\n",
       "    <tr>\n",
       "      <th>0</th>\n",
       "      <td>underwriter manager</td>\n",
       "      <td>0</td>\n",
       "      <td>0</td>\n",
       "      <td>0</td>\n",
       "      <td>0</td>\n",
       "      <td>1</td>\n",
       "      <td>0</td>\n",
       "      <td>0</td>\n",
       "      <td>0</td>\n",
       "      <td>0</td>\n",
       "      <td>1</td>\n",
       "    </tr>\n",
       "    <tr>\n",
       "      <th>1</th>\n",
       "      <td>mortgage data analyst</td>\n",
       "      <td>1</td>\n",
       "      <td>0</td>\n",
       "      <td>1</td>\n",
       "      <td>0</td>\n",
       "      <td>0</td>\n",
       "      <td>0</td>\n",
       "      <td>1</td>\n",
       "      <td>0</td>\n",
       "      <td>0</td>\n",
       "      <td>0</td>\n",
       "    </tr>\n",
       "    <tr>\n",
       "      <th>2</th>\n",
       "      <td>junior underwriter</td>\n",
       "      <td>0</td>\n",
       "      <td>0</td>\n",
       "      <td>0</td>\n",
       "      <td>1</td>\n",
       "      <td>0</td>\n",
       "      <td>0</td>\n",
       "      <td>0</td>\n",
       "      <td>0</td>\n",
       "      <td>0</td>\n",
       "      <td>1</td>\n",
       "    </tr>\n",
       "  </tbody>\n",
       "</table>\n",
       "</div>"
      ],
      "text/plain": [
       "               job_title  analyst  associate  data  junior  manager  medical  \\\n",
       "0    underwriter manager        0          0     0       0        1        0   \n",
       "1  mortgage data analyst        1          0     1       0        0        0   \n",
       "2     junior underwriter        0          0     0       1        0        0   \n",
       "\n",
       "   mortgage  sales  senior  underwriter  \n",
       "0         0      0       0            1  \n",
       "1         1      0       0            0  \n",
       "2         0      0       0            1  "
      ]
     },
     "execution_count": 4,
     "metadata": {},
     "output_type": "execute_result"
    }
   ],
   "source": [
    "job_titles[job_titles['job_category'] == 'finance'].drop(['job_category'], axis=1).head()"
   ]
  },
  {
   "cell_type": "markdown",
   "metadata": {},
   "source": [
    "### Sales"
   ]
  },
  {
   "cell_type": "code",
   "execution_count": 5,
   "metadata": {
    "collapsed": false
   },
   "outputs": [
    {
     "data": {
      "text/html": [
       "<div>\n",
       "<table border=\"1\" class=\"dataframe\">\n",
       "  <thead>\n",
       "    <tr style=\"text-align: right;\">\n",
       "      <th></th>\n",
       "      <th>job_title</th>\n",
       "      <th>analyst</th>\n",
       "      <th>associate</th>\n",
       "      <th>data</th>\n",
       "      <th>junior</th>\n",
       "      <th>manager</th>\n",
       "      <th>medical</th>\n",
       "      <th>mortgage</th>\n",
       "      <th>sales</th>\n",
       "      <th>senior</th>\n",
       "      <th>underwriter</th>\n",
       "    </tr>\n",
       "  </thead>\n",
       "  <tbody>\n",
       "    <tr>\n",
       "      <th>3</th>\n",
       "      <td>sales manager</td>\n",
       "      <td>0</td>\n",
       "      <td>0</td>\n",
       "      <td>0</td>\n",
       "      <td>0</td>\n",
       "      <td>1</td>\n",
       "      <td>0</td>\n",
       "      <td>0</td>\n",
       "      <td>1</td>\n",
       "      <td>0</td>\n",
       "      <td>0</td>\n",
       "    </tr>\n",
       "    <tr>\n",
       "      <th>4</th>\n",
       "      <td>junior medical sales associate</td>\n",
       "      <td>0</td>\n",
       "      <td>1</td>\n",
       "      <td>0</td>\n",
       "      <td>1</td>\n",
       "      <td>0</td>\n",
       "      <td>1</td>\n",
       "      <td>0</td>\n",
       "      <td>1</td>\n",
       "      <td>0</td>\n",
       "      <td>0</td>\n",
       "    </tr>\n",
       "    <tr>\n",
       "      <th>5</th>\n",
       "      <td>senior sales manager</td>\n",
       "      <td>0</td>\n",
       "      <td>0</td>\n",
       "      <td>0</td>\n",
       "      <td>0</td>\n",
       "      <td>1</td>\n",
       "      <td>0</td>\n",
       "      <td>0</td>\n",
       "      <td>1</td>\n",
       "      <td>1</td>\n",
       "      <td>0</td>\n",
       "    </tr>\n",
       "    <tr>\n",
       "      <th>6</th>\n",
       "      <td>sales manager</td>\n",
       "      <td>0</td>\n",
       "      <td>0</td>\n",
       "      <td>0</td>\n",
       "      <td>0</td>\n",
       "      <td>1</td>\n",
       "      <td>0</td>\n",
       "      <td>0</td>\n",
       "      <td>1</td>\n",
       "      <td>0</td>\n",
       "      <td>0</td>\n",
       "    </tr>\n",
       "  </tbody>\n",
       "</table>\n",
       "</div>"
      ],
      "text/plain": [
       "                        job_title  analyst  associate  data  junior  manager  \\\n",
       "3                   sales manager        0          0     0       0        1   \n",
       "4  junior medical sales associate        0          1     0       1        0   \n",
       "5            senior sales manager        0          0     0       0        1   \n",
       "6                   sales manager        0          0     0       0        1   \n",
       "\n",
       "   medical  mortgage  sales  senior  underwriter  \n",
       "3        0         0      1       0            0  \n",
       "4        1         0      1       0            0  \n",
       "5        0         0      1       1            0  \n",
       "6        0         0      1       0            0  "
      ]
     },
     "execution_count": 5,
     "metadata": {},
     "output_type": "execute_result"
    }
   ],
   "source": [
    "job_titles[job_titles['job_category'] == 'sales'].drop(['job_category'], axis=1).head()"
   ]
  },
  {
   "cell_type": "markdown",
   "metadata": {},
   "source": [
    "### Technology"
   ]
  },
  {
   "cell_type": "code",
   "execution_count": 6,
   "metadata": {
    "collapsed": false
   },
   "outputs": [
    {
     "data": {
      "text/html": [
       "<div>\n",
       "<table border=\"1\" class=\"dataframe\">\n",
       "  <thead>\n",
       "    <tr style=\"text-align: right;\">\n",
       "      <th></th>\n",
       "      <th>job_title</th>\n",
       "      <th>analyst</th>\n",
       "      <th>associate</th>\n",
       "      <th>data</th>\n",
       "      <th>junior</th>\n",
       "      <th>manager</th>\n",
       "      <th>medical</th>\n",
       "      <th>mortgage</th>\n",
       "      <th>sales</th>\n",
       "      <th>senior</th>\n",
       "      <th>underwriter</th>\n",
       "    </tr>\n",
       "  </thead>\n",
       "  <tbody>\n",
       "    <tr>\n",
       "      <th>7</th>\n",
       "      <td>senior data analyst</td>\n",
       "      <td>1</td>\n",
       "      <td>0</td>\n",
       "      <td>1</td>\n",
       "      <td>0</td>\n",
       "      <td>0</td>\n",
       "      <td>0</td>\n",
       "      <td>0</td>\n",
       "      <td>0</td>\n",
       "      <td>1</td>\n",
       "      <td>0</td>\n",
       "    </tr>\n",
       "    <tr>\n",
       "      <th>8</th>\n",
       "      <td>data analyst</td>\n",
       "      <td>1</td>\n",
       "      <td>0</td>\n",
       "      <td>1</td>\n",
       "      <td>0</td>\n",
       "      <td>0</td>\n",
       "      <td>0</td>\n",
       "      <td>0</td>\n",
       "      <td>0</td>\n",
       "      <td>0</td>\n",
       "      <td>0</td>\n",
       "    </tr>\n",
       "    <tr>\n",
       "      <th>9</th>\n",
       "      <td>data manager</td>\n",
       "      <td>0</td>\n",
       "      <td>0</td>\n",
       "      <td>1</td>\n",
       "      <td>0</td>\n",
       "      <td>1</td>\n",
       "      <td>0</td>\n",
       "      <td>0</td>\n",
       "      <td>0</td>\n",
       "      <td>0</td>\n",
       "      <td>0</td>\n",
       "    </tr>\n",
       "  </tbody>\n",
       "</table>\n",
       "</div>"
      ],
      "text/plain": [
       "             job_title  analyst  associate  data  junior  manager  medical  \\\n",
       "7  senior data analyst        1          0     1       0        0        0   \n",
       "8         data analyst        1          0     1       0        0        0   \n",
       "9         data manager        0          0     1       0        1        0   \n",
       "\n",
       "   mortgage  sales  senior  underwriter  \n",
       "7         0      0       1            0  \n",
       "8         0      0       0            0  \n",
       "9         0      0       0            0  "
      ]
     },
     "execution_count": 6,
     "metadata": {},
     "output_type": "execute_result"
    }
   ],
   "source": [
    "job_titles[job_titles['job_category'] == 'technology'].drop(['job_category'], axis=1).head()"
   ]
  },
  {
   "cell_type": "markdown",
   "metadata": {},
   "source": [
    "### Unlabeled"
   ]
  },
  {
   "cell_type": "code",
   "execution_count": 7,
   "metadata": {
    "collapsed": false
   },
   "outputs": [
    {
     "data": {
      "text/html": [
       "<div>\n",
       "<table border=\"1\" class=\"dataframe\">\n",
       "  <thead>\n",
       "    <tr style=\"text-align: right;\">\n",
       "      <th></th>\n",
       "      <th>job_title</th>\n",
       "      <th>analyst</th>\n",
       "      <th>associate</th>\n",
       "      <th>data</th>\n",
       "      <th>junior</th>\n",
       "      <th>manager</th>\n",
       "      <th>medical</th>\n",
       "      <th>mortgage</th>\n",
       "      <th>sales</th>\n",
       "      <th>senior</th>\n",
       "      <th>underwriter</th>\n",
       "    </tr>\n",
       "  </thead>\n",
       "  <tbody>\n",
       "    <tr>\n",
       "      <th>10</th>\n",
       "      <td>data analyst manager</td>\n",
       "      <td>1</td>\n",
       "      <td>0</td>\n",
       "      <td>1</td>\n",
       "      <td>0</td>\n",
       "      <td>1</td>\n",
       "      <td>0</td>\n",
       "      <td>0</td>\n",
       "      <td>0</td>\n",
       "      <td>0</td>\n",
       "      <td>0</td>\n",
       "    </tr>\n",
       "    <tr>\n",
       "      <th>11</th>\n",
       "      <td>junior data analyst</td>\n",
       "      <td>1</td>\n",
       "      <td>0</td>\n",
       "      <td>1</td>\n",
       "      <td>1</td>\n",
       "      <td>0</td>\n",
       "      <td>0</td>\n",
       "      <td>0</td>\n",
       "      <td>0</td>\n",
       "      <td>0</td>\n",
       "      <td>0</td>\n",
       "    </tr>\n",
       "  </tbody>\n",
       "</table>\n",
       "</div>"
      ],
      "text/plain": [
       "               job_title  analyst  associate  data  junior  manager  medical  \\\n",
       "10  data analyst manager        1          0     1       0        1        0   \n",
       "11   junior data analyst        1          0     1       1        0        0   \n",
       "\n",
       "    mortgage  sales  senior  underwriter  \n",
       "10         0      0       0            0  \n",
       "11         0      0       0            0  "
      ]
     },
     "execution_count": 7,
     "metadata": {},
     "output_type": "execute_result"
    }
   ],
   "source": [
    "job_titles[job_titles['job_category'].isnull()].drop(['job_category'], axis=1).head()"
   ]
  },
  {
   "cell_type": "markdown",
   "metadata": {},
   "source": [
    "Updating our model a bit, we want to find $p(C_k \\mid \\mathbf{x})$ where $\\mathbf{x}$ is our feature vector of word occurences. In the case of \"data analyst manager\" $$\\mathbf{x} = (x_1, x_2, ...,x_{10}) = (1,0,1,0,1,0,0,0,0,0)$$\n",
    "\n",
    "--- \n",
    "\n",
    "\n",
    "Before we continue, let’s review some probability rules and [Bayes’ Theorem](https://en.wikipedia.org/wiki/Bayes%27_theorem)\n",
    "\n",
    "$ P(A \\mid B) = \\frac{P(A \\cap B)}{P(B)},\\text{ if }P(B) \\neq 0 $\n",
    "\n",
    "$ P(B \\mid A) = \\frac{P(A \\cap B)}{P(A)},\\text{ if }P(A) \\neq 0 $\n",
    "\n",
    "$ \\Rightarrow P(A \\cap B) = P(A \\mid B) P(B) = P(B \\mid A) P(A),$\n",
    "\n",
    "$ \\Rightarrow P(A \\mid B) = \\frac{P(B \\mid A) P(A)}{P(B)},\\text{ if }P(B) \\neq 0.$\n",
    "\n",
    "For us this means\n",
    "\n",
    "$p(C_k \\mid \\mathbf{x}) = \\frac{p(\\mathbf{x} \\mid C_k) p(C_k)}{p(\\mathbf{x})}$\n",
    "\n",
    "Let's break down those pieces:\n",
    "\n",
    "- $p(C_k)$ - frequency of class $C_k$ / total number of samples\n",
    "- $p(\\mathbf{x} \\mid C_k)$ - frequency of $\\mathbf{x}$ / number of samples, where class = $C_k$ \n",
    "- $p(\\mathbf{x})$ = frequency of $\\mathbf{x}$ / total number of samples\n",
    "\n",
    "---\n",
    "\n",
    "### $p(C_k)$\n",
    "\n",
    "This is the easiest part. To calculate $p(C_k)$ we can use empirical relative frequencies given by our training data."
   ]
  },
  {
   "cell_type": "code",
   "execution_count": 8,
   "metadata": {
    "collapsed": false
   },
   "outputs": [
    {
     "name": "stdout",
     "output_type": "stream",
     "text": [
      "p(finance)= 3/10 = 0.30000\n",
      "p(sales)= 4/10 = 0.40000\n",
      "p(technology)= 3/10 = 0.30000\n"
     ]
    }
   ],
   "source": [
    "mask = ~job_titles['job_category'].isnull()\n",
    "categories = job_titles[mask]['job_category'].unique()\n",
    "\n",
    "n = mask.sum()\n",
    "p_cat = list([0.0]*len(categories))\n",
    "for i, c in enumerate(categories):\n",
    "    m = (job_titles[mask]['job_category'] == c).sum()\n",
    "    p_cat[i] = m*1.0/n\n",
    "    print(\"p(%s)= %i/%i = %.5f\" % (c, m, n, p_cat[i]))"
   ]
  },
  {
   "cell_type": "markdown",
   "metadata": {},
   "source": [
    "These probabilities are called “priors”. Our method of estimating them using the training data is common, but not necessary. Suppose we have reason to believe that the true priors for Technology, Sales, and Finance are 0.2, 0.4, and 0.4 respectively. With a Naive Bayes model, we can just plug those babies in for $p(C_k)$ and our model will adjust accordingly. By contrast, using priors for tree based models like Random Forest is not nearly as easy.\n",
    "\n",
    "--- \n",
    "\n",
    "### $p(\\mathbf{x} \\mid C_k)$\n",
    "\n",
    "Now let’s consider $p(\\mathbf{x} \\mid C_k)$. Using our training data we would calculate $p(\\mathbf{x} \\mid \\text{Technology})$ to be 0. (Remember $p(\\mathbf{x} \\mid \\text{Technology})$ represents the probability that only and all of the words “data”, “analyst”, and “manager” appear in a random job title given that it’s in the Technology class. In our training samples this never occurred, so our empirical probability estimate is 0.) This is a problem. We know $p(\\mathbf{x} \\mid \\text{Technology})$ should be greater than 0, but we don’t have enough (or in this case, any) samples to accurrately estimate it. The way we’ll get around this problem is to make a naive assumption – we’ll assume that the features (i.e. the occurrence of words in a job title) are independent variables. Obviously this is not true. When the word “data” appears in a job title, it immediately increases the probability that the word “analyst” appears in the title. However let’s assume the assumption is valid (or close to being valid). Then\n",
    "\n",
    "$$p(\\mathbf{x} \\mid C_k) = p(x_1 \\mid C_k)p(x_2 \\mid C_k) ... p(x_{10} \\mid C_k)$$\n",
    "\n",
    "For our example “data analyst manager” this means\n",
    "\n",
    "$p(\\mathbf{x} \\mid \\text{Technology}) = p(x_1 = 1 \\mid Tech) \\cdot p(x_2 = 0 \\mid Tech)\\cdot  ... \\cdot p(x_{10} = 0 \\mid Tech)$\n",
    "\n",
    "Similarly, we can calculate $p(\\mathbf{x} \\mid \\text{Sales})$ and $p(\\mathbf{x} \\mid \\text{Finance})$ "
   ]
  },
  {
   "cell_type": "code",
   "execution_count": 9,
   "metadata": {
    "collapsed": false
   },
   "outputs": [
    {
     "name": "stdout",
     "output_type": "stream",
     "text": [
      "p(x|finance)= 1/3 * 3/3 * 1/3 * 2/3 * 1/3 * 3/3 * 2/3 * 3/3 * 3/3 * 1/3 = 0.00549 \n",
      "\n",
      "p(x|sales)= 0/4 * 3/4 * 0/4 * 3/4 * 3/4 * 3/4 * 4/4 * 0/4 * 3/4 * 4/4 = 0.00000 \n",
      "\n",
      "p(x|technology)= 2/3 * 3/3 * 3/3 * 3/3 * 1/3 * 3/3 * 3/3 * 3/3 * 2/3 * 3/3 = 0.14815 \n",
      "\n"
     ]
    }
   ],
   "source": [
    "x = words.loc[10,:]\n",
    "\n",
    "def compute_p_x_cat(x):    \n",
    "    p_x_cat = [1.0, 1.0, 1.0]\n",
    "    for c_i, category in enumerate(categories):\n",
    "        mask = job_titles['job_category'] == category\n",
    "        n = mask.sum()    \n",
    "        cols = words.columns    \n",
    "        print(\"p(x|%s)= \" % category, end='')\n",
    "        for i, c in enumerate(cols[:-1]):\n",
    "            nx = (job_titles[mask][c] == x[i]).sum()\n",
    "            print(\"{}/{} * \".format(nx, n), end='')\n",
    "            p_x_cat[c_i] *= nx*1.0/n\n",
    "        i += 1\n",
    "        c = cols[-1]\n",
    "        nx = (job_titles[mask][c] == x[i]).sum()\n",
    "        print(\"{}/{} = \".format(nx, n), end='')\n",
    "        p_x_cat[c_i] *= nx*1.0/n\n",
    "        print(\"%.5f \\n\" % p_x_cat[c_i])\n",
    "    return p_x_cat\n",
    "        \n",
    "p_x_cat = compute_p_x_cat(x)"
   ]
  },
  {
   "cell_type": "markdown",
   "metadata": {
    "collapsed": true
   },
   "source": [
    "---\n",
    "\n",
    "###  $p(\\mathbf{x})$\n",
    "\n",
    "We run into the same issue as before when we try to estimate $p(\\mathbf{x})$. According to our training data $p(\\mathbf{x}) = 0$, but the true value of $p(\\mathbf{x})$ should obviously be > 0. However, consider our end-goal which is to determine $p(\\text{Technology} \\mid \\mathbf{x})$, $p(\\text{Sales} \\mid \\mathbf{x})$, and $p(\\text{Finance} \\mid \\mathbf{x})$. Per Bayes’ Theorem, these probabilities are equivalent to\n",
    "\n",
    "$ p(\\text{Technology} \\mid \\mathbf{x}) = \\frac{p(\\mathbf{x} \\mid \\text{Technology})p(\\text{Technology})}{p(\\mathbf{x})}$\n",
    "\n",
    "$ p(\\text{Sales} \\mid \\mathbf{x}) = \\frac{p(\\mathbf{x} \\mid \\text{Sales})p(\\text{Sales})}{p(\\mathbf{x})} $\n",
    "\n",
    "$ p(\\text{Finance} \\mid \\mathbf{x}) = \\frac{p(\\mathbf{x} \\mid \\text{Finance})p(\\text{Finance})}{p(\\mathbf{x})} $\n",
    "\n",
    "Notice that $p(\\mathbf{x})$ is just a scaling factor. It affects the values of $p(\\text{Technology} \\mid \\mathbf{x})$, $p(\\text{Sales} \\mid \\mathbf{x})$, and $p(\\text{Finance} \\mid \\mathbf{x})$ equally, And since these probabilities must sum to 1 we can solve for $p(\\mathbf{x})$:\n",
    "\n",
    "$1 = p(\\text{Technology} \\mid \\mathbf{x}) + p(\\text{Sales} \\mid \\mathbf{x}) + p(\\text{Finance} \\mid \\mathbf{x})$\n",
    "\n",
    "$\\Rightarrow 1 = \\frac{p(\\text{Technology})p(\\mathbf{x} \\mid \\text{Technology})}{p(\\mathbf{x})} + \\frac{p(\\text{Sales})p(\\mathbf{x} \\mid \\text{Sales})}{p(\\mathbf{x})} + \\frac{p(\\text{Finance})p(\\mathbf{x} \\mid \\text{Finance})}{p(\\mathbf{x})}$\n",
    "\n",
    "$\\Rightarrow p(\\mathbf{x}) = p(\\text{Technology}) p(\\mathbf{x} \\mid \\text{Technology}) + p(\\text{Sales}) p(\\mathbf{x} \\mid \\text{Sales}) + p(\\text{Finance}) p(\\mathbf{x} \\mid \\text{Finance})$\n",
    "\n",
    "So, in our example we can calculate $p(\\mathbf{x})$ to be"
   ]
  },
  {
   "cell_type": "code",
   "execution_count": 10,
   "metadata": {
    "collapsed": false
   },
   "outputs": [
    {
     "name": "stdout",
     "output_type": "stream",
     "text": [
      "p(x)=0.04609\n"
     ]
    }
   ],
   "source": [
    "def compute_p_x(p_cat, p_x_cat):\n",
    "    p_x = 0.0\n",
    "    for p_c, p_x_c in zip(p_cat, p_x_cat):\n",
    "        p_x += p_c * p_x_c\n",
    "    print(\"p(x)=%.5f\" % p_x)\n",
    "    return p_x\n",
    "\n",
    "p_x = compute_p_x(p_cat, p_x_cat)"
   ]
  },
  {
   "cell_type": "markdown",
   "metadata": {},
   "source": [
    "--- \n",
    "### Putting it all together\n",
    "\n",
    "We can generate probability estimates:\n",
    "\n",
    "$ p(\\text{Technology} \\mid \\mathbf{x}) = \\frac{p(\\mathbf{x} \\mid \\text{Technology})p(\\text{Technology})}{p(\\mathbf{x})} $\n",
    "\n",
    "$ p(\\text{Sales} \\mid \\mathbf{x}) = \\frac{p(\\mathbf{x} \\mid \\text{Sales})p(\\text{Sales})}{p(\\mathbf{x})} $\n",
    "\n",
    "$ p(\\text{Finance} \\mid \\mathbf{x}) = \\frac{p(\\mathbf{x} \\mid \\text{Finance})p(\\text{Finance})}{p(\\mathbf{x})}$"
   ]
  },
  {
   "cell_type": "code",
   "execution_count": 11,
   "metadata": {
    "collapsed": false
   },
   "outputs": [
    {
     "name": "stdout",
     "output_type": "stream",
     "text": [
      "p(finance|x)=0.03571\n",
      "p(sales|x)=0.00000\n",
      "p(technology|x)=0.96429\n"
     ]
    }
   ],
   "source": [
    "def compute_p_cat_x(p_x_cat, p_cat, p_x):\n",
    "    p_cat_x = [0.0, 0.0, 0.0]\n",
    "    for i, p_c, c in zip(range(3), p_cat, categories):\n",
    "        p_cat_x[i] = p_x_cat[i] * p_c / p_x\n",
    "        print(\"p(%s|x)=%.5f\" % (c, p_cat_x[i]))\n",
    "    return p_cat_x\n",
    "\n",
    "p_cat_x = compute_p_cat_x(p_x_cat, p_cat, p_x)"
   ]
  },
  {
   "cell_type": "markdown",
   "metadata": {},
   "source": [
    "Finally, if we want to turn this model into a classifier we just need to use a decision rule like \n",
    "\n",
    "*Label the sample using the class with the highest probability.*\n",
    "\n",
    "Awesome! But there’s still a nagging issue… Suppose we try to classify the title “junior data analyst”. With our current model, we’d get"
   ]
  },
  {
   "cell_type": "code",
   "execution_count": 12,
   "metadata": {
    "collapsed": false
   },
   "outputs": [
    {
     "name": "stdout",
     "output_type": "stream",
     "text": [
      "p(x|finance)= 1/3 * 3/3 * 1/3 * 1/3 * 2/3 * 3/3 * 2/3 * 3/3 * 3/3 * 1/3 = 0.00549 \n",
      "\n",
      "p(x|sales)= 0/4 * 3/4 * 0/4 * 1/4 * 1/4 * 3/4 * 4/4 * 0/4 * 3/4 * 4/4 = 0.00000 \n",
      "\n",
      "p(x|technology)= 2/3 * 3/3 * 3/3 * 0/3 * 2/3 * 3/3 * 3/3 * 3/3 * 2/3 * 3/3 = 0.00000 \n",
      "\n"
     ]
    }
   ],
   "source": [
    "x = words.loc[11,:]\n",
    "p_x_cat = compute_p_x_cat(x)"
   ]
  },
  {
   "cell_type": "markdown",
   "metadata": {},
   "source": [
    "Our intuition tells us that “junior data analyst” is more likely to be a Technology job than a Finance job, but since the word “junior” never appeared in any of the Technology training samples, $p(x_{4}=1 \\mid \\text{Technology}) = 0$ which will ultimately cause $p(\\text{Technology} \\mid \\mathbf{x})$ to be 0. In order to deal with this issue, we’ll introduce something called [Additive Smoothing](https://en.wikipedia.org/wiki/Additive_smoothing) which will ensure that $p(x_i \\mid C_k)$ is never 0 by making\n",
    "\n",
    "$$ p(x_i \\mid C_k) = \\frac{\\text{frequency}(x_i \\mid C_k) + \\alpha}{\\text{frequency}(C_k) + \\alpha n_i},  $$\n",
    "where $n_i$ is the number of possible values for $x_i$ (in our examples, 2).\n",
    "\n",
    "If $\\alpha=1$ this is known as Laplace Smoothing. In our examples, Laplace Smoothing produces the following: "
   ]
  },
  {
   "cell_type": "code",
   "execution_count": 13,
   "metadata": {
    "collapsed": false
   },
   "outputs": [
    {
     "name": "stdout",
     "output_type": "stream",
     "text": [
      "p(x|finance)= 2.0/5.0 * 4.0/5.0 * 2.0/5.0 * 2.0/5.0 * 3.0/5.0 * 4.0/5.0 * 3.0/5.0 * 4.0/5.0 * 4.0/5.0 * 2.0/5.0 = 0.00377 \n",
      "\n",
      "p(x|sales)= 1.0/6.0 * 4.0/6.0 * 1.0/6.0 * 2.0/6.0 * 2.0/6.0 * 4.0/6.0 * 5.0/6.0 * 1.0/6.0 * 4.0/6.0 * 5.0/6.0 = 0.00011 \n",
      "\n",
      "p(x|technology)= 3.0/5.0 * 4.0/5.0 * 4.0/5.0 * 1.0/5.0 * 3.0/5.0 * 4.0/5.0 * 4.0/5.0 * 4.0/5.0 * 3.0/5.0 * 4.0/5.0 = 0.01132 \n",
      "\n"
     ]
    }
   ],
   "source": [
    "def compute_p_x_cat(x, alpha, n_i):    \n",
    "    p_x_cat = [1.0, 1.0, 1.0]\n",
    "    for c_i, category in enumerate(categories):\n",
    "        mask = job_titles['job_category'] == category\n",
    "        n = mask.sum()    \n",
    "        cols = words.columns    \n",
    "        print(\"p(x|%s)= \" % category, end='')\n",
    "        for i, c in enumerate(cols[:-1]):\n",
    "            nx = (job_titles[mask][c] == x[i]).sum()\n",
    "            nx += alpha\n",
    "            nn = n + alpha * n_i\n",
    "            print(\"{}/{} * \".format(nx, nn), end='')\n",
    "            p_x_cat[c_i] *= nx*1.0/nn\n",
    "        i += 1\n",
    "        c = cols[-1]\n",
    "        nx = (job_titles[mask][c] == x[i]).sum()\n",
    "        nx += alpha\n",
    "        nn = n + alpha * n_i\n",
    "        print(\"{}/{} = \".format(nx, nn), end='')\n",
    "        p_x_cat[c_i] *= nx*1.0/nn\n",
    "        print(\"%.5f \\n\" % p_x_cat[c_i])\n",
    "    return p_x_cat\n",
    "\n",
    "p_x_cat = compute_p_x_cat(x, alpha=1.0, n_i=2)"
   ]
  },
  {
   "cell_type": "code",
   "execution_count": 14,
   "metadata": {
    "collapsed": false
   },
   "outputs": [
    {
     "name": "stdout",
     "output_type": "stream",
     "text": [
      "p(x)=0.00457\n",
      "p(finance|x)=0.24769\n",
      "p(sales|x)=0.00926\n",
      "p(technology|x)=0.74306\n"
     ]
    }
   ],
   "source": [
    "p_x = compute_p_x(p_cat, p_x_cat)\n",
    "p_cat_x = compute_p_cat_x(p_x_cat, p_cat, p_x)"
   ]
  },
  {
   "cell_type": "markdown",
   "metadata": {},
   "source": [
    "---\n",
    "### Generalizing this\n",
    "\n",
    "Recall our model which is a direct translation of Bayes’ Theorem\n",
    "\n",
    "$$ p(C_k \\mid \\mathbf{x}) = \\frac{ p(\\mathbf{x} \\mid C_k) p(C_k) }{p(\\mathbf{x})} $$\n",
    "\n",
    "From our naive assumption, we transformed $p(\\mathbf{x} \\mid C_k)$ into the product $\\prod_{i=1}^n p(x_i \\mid C_k)$. Then we calculated $p(x_i \\mid C_k)$ using relative frequencies. The underlying argument for using relative frequencies is that $x_i$ was a  [Bernoulli Random Variable](https://en.wikipedia.org/wiki/Bernoulli_distribution) (because $x_i$ is either 0 or 1 for our example). However, in the general case $x_i$ can be from any distribution and our Naive Bayes model will still work as long as we can closely estimate $p(x_i \\mid C_k)$. This includes [multinomial random variables](https://en.wikipedia.org/wiki/Multinomial_distribution) (commonly used in document classification problems like ours, but where word-repeats can occur) as well as continuous random variables. That means we can include things like a user’s bio (word frequencies) and age as additional features in our model."
   ]
  },
  {
   "cell_type": "code",
   "execution_count": null,
   "metadata": {
    "collapsed": true
   },
   "outputs": [],
   "source": []
  }
 ],
 "metadata": {
  "kernelspec": {
   "display_name": "Python 3",
   "language": "python",
   "name": "python3"
  },
  "language_info": {
   "codemirror_mode": {
    "name": "ipython",
    "version": 3
   },
   "file_extension": ".py",
   "mimetype": "text/x-python",
   "name": "python",
   "nbconvert_exporter": "python",
   "pygments_lexer": "ipython3",
   "version": "3.5.2"
  }
 },
 "nbformat": 4,
 "nbformat_minor": 0
}
